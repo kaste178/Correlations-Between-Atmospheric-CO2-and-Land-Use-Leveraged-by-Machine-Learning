{
  "nbformat": 4,
  "nbformat_minor": 0,
  "metadata": {
    "colab": {
      "provenance": []
    },
    "kernelspec": {
      "name": "python3",
      "display_name": "Python 3"
    },
    "language_info": {
      "name": "python"
    }
  },
  "cells": [
    {
      "cell_type": "markdown",
      "source": [
        "# Correlations Between Atmospheric CO2 and Land Use Leveraged by Machine Learning\n",
        "\n",
        "# Jake Kastenbauer"
      ],
      "metadata": {
        "id": "obbEUHuplRVB"
      }
    },
    {
      "cell_type": "markdown",
      "source": [
        "Here the combined atmospheric CO2 data and modeled land cover class data are analyzed in the co2_project.csv file. The code here pairs the percent of pixels in each image for each land cover class againt CO2 data points."
      ],
      "metadata": {
        "id": "TKfmS420lfub"
      }
    },
    {
      "cell_type": "markdown",
      "source": [
        "# 1. Dataset Loading and Variable Preperation"
      ],
      "metadata": {
        "id": "-oxCTpsTmP8x"
      }
    },
    {
      "cell_type": "markdown",
      "source": [
        "First, appropraite modules and the dataset are loaded. Then each variable is transformed into an array for linear regression analysis."
      ],
      "metadata": {
        "id": "xGvMmcR9mZ53"
      }
    },
    {
      "cell_type": "code",
      "source": [
        "# Load modules\n",
        "import numpy as np\n",
        "from sklearn.linear_model import LinearRegression\n",
        "import matplotlib.pyplot as mp\n",
        "import pandas as pd\n",
        "import statsmodels.api as sm"
      ],
      "metadata": {
        "id": "7wsLhzQn0kaX"
      },
      "execution_count": 1,
      "outputs": []
    },
    {
      "cell_type": "code",
      "source": [
        "# Import dataset\n",
        "df = pd.read_csv(\"co2_project.csv\")\n",
        "df"
      ],
      "metadata": {
        "colab": {
          "base_uri": "https://localhost:8080/",
          "height": 226
        },
        "id": "2guiqx8D0n1G",
        "outputId": "59f41915-bbd0-4b1e-e681-c273602d06b3"
      },
      "execution_count": 8,
      "outputs": [
        {
          "output_type": "execute_result",
          "data": {
            "text/plain": [
              "   Image        CO2  AnnualCrop   SeaLake  Industrial   Highway  \\\n",
              "0      1  416.10205    1.782227  1.538086    1.489258  1.367188   \n",
              "1      2  417.57870    1.831055  2.075195    2.368164  1.562500   \n",
              "2      3  418.26935    2.636719  2.294922    2.026367  2.416992   \n",
              "3      4  417.67178    2.514648  2.514648    2.148438  2.636719   \n",
              "4      5  419.20340    2.514648  2.612305    2.856445  2.905273   \n",
              "\n",
              "   HerbaceousVegetation  Residential  PermenantCrop   Pasture     River  \\\n",
              "0              1.684570     1.342773       1.391602  1.586914  1.391602   \n",
              "1              2.148438     1.953125       1.757812  2.319336  2.319336   \n",
              "2              2.148438     2.270508       2.734375  1.928711  2.270508   \n",
              "3              2.490234     2.099609       2.490234  2.465820  1.953125   \n",
              "4              2.709961     2.856445       2.612305  2.807617  2.978516   \n",
              "\n",
              "      Forest  \n",
              "0  86.425781  \n",
              "1  81.665039  \n",
              "2  79.272461  \n",
              "3  78.686523  \n",
              "4  75.146484  "
            ],
            "text/html": [
              "\n",
              "  <div id=\"df-6f32d15d-b35d-4382-ac76-3a4566c6c497\" class=\"colab-df-container\">\n",
              "    <div>\n",
              "<style scoped>\n",
              "    .dataframe tbody tr th:only-of-type {\n",
              "        vertical-align: middle;\n",
              "    }\n",
              "\n",
              "    .dataframe tbody tr th {\n",
              "        vertical-align: top;\n",
              "    }\n",
              "\n",
              "    .dataframe thead th {\n",
              "        text-align: right;\n",
              "    }\n",
              "</style>\n",
              "<table border=\"1\" class=\"dataframe\">\n",
              "  <thead>\n",
              "    <tr style=\"text-align: right;\">\n",
              "      <th></th>\n",
              "      <th>Image</th>\n",
              "      <th>CO2</th>\n",
              "      <th>AnnualCrop</th>\n",
              "      <th>SeaLake</th>\n",
              "      <th>Industrial</th>\n",
              "      <th>Highway</th>\n",
              "      <th>HerbaceousVegetation</th>\n",
              "      <th>Residential</th>\n",
              "      <th>PermenantCrop</th>\n",
              "      <th>Pasture</th>\n",
              "      <th>River</th>\n",
              "      <th>Forest</th>\n",
              "    </tr>\n",
              "  </thead>\n",
              "  <tbody>\n",
              "    <tr>\n",
              "      <th>0</th>\n",
              "      <td>1</td>\n",
              "      <td>416.10205</td>\n",
              "      <td>1.782227</td>\n",
              "      <td>1.538086</td>\n",
              "      <td>1.489258</td>\n",
              "      <td>1.367188</td>\n",
              "      <td>1.684570</td>\n",
              "      <td>1.342773</td>\n",
              "      <td>1.391602</td>\n",
              "      <td>1.586914</td>\n",
              "      <td>1.391602</td>\n",
              "      <td>86.425781</td>\n",
              "    </tr>\n",
              "    <tr>\n",
              "      <th>1</th>\n",
              "      <td>2</td>\n",
              "      <td>417.57870</td>\n",
              "      <td>1.831055</td>\n",
              "      <td>2.075195</td>\n",
              "      <td>2.368164</td>\n",
              "      <td>1.562500</td>\n",
              "      <td>2.148438</td>\n",
              "      <td>1.953125</td>\n",
              "      <td>1.757812</td>\n",
              "      <td>2.319336</td>\n",
              "      <td>2.319336</td>\n",
              "      <td>81.665039</td>\n",
              "    </tr>\n",
              "    <tr>\n",
              "      <th>2</th>\n",
              "      <td>3</td>\n",
              "      <td>418.26935</td>\n",
              "      <td>2.636719</td>\n",
              "      <td>2.294922</td>\n",
              "      <td>2.026367</td>\n",
              "      <td>2.416992</td>\n",
              "      <td>2.148438</td>\n",
              "      <td>2.270508</td>\n",
              "      <td>2.734375</td>\n",
              "      <td>1.928711</td>\n",
              "      <td>2.270508</td>\n",
              "      <td>79.272461</td>\n",
              "    </tr>\n",
              "    <tr>\n",
              "      <th>3</th>\n",
              "      <td>4</td>\n",
              "      <td>417.67178</td>\n",
              "      <td>2.514648</td>\n",
              "      <td>2.514648</td>\n",
              "      <td>2.148438</td>\n",
              "      <td>2.636719</td>\n",
              "      <td>2.490234</td>\n",
              "      <td>2.099609</td>\n",
              "      <td>2.490234</td>\n",
              "      <td>2.465820</td>\n",
              "      <td>1.953125</td>\n",
              "      <td>78.686523</td>\n",
              "    </tr>\n",
              "    <tr>\n",
              "      <th>4</th>\n",
              "      <td>5</td>\n",
              "      <td>419.20340</td>\n",
              "      <td>2.514648</td>\n",
              "      <td>2.612305</td>\n",
              "      <td>2.856445</td>\n",
              "      <td>2.905273</td>\n",
              "      <td>2.709961</td>\n",
              "      <td>2.856445</td>\n",
              "      <td>2.612305</td>\n",
              "      <td>2.807617</td>\n",
              "      <td>2.978516</td>\n",
              "      <td>75.146484</td>\n",
              "    </tr>\n",
              "  </tbody>\n",
              "</table>\n",
              "</div>\n",
              "    <div class=\"colab-df-buttons\">\n",
              "\n",
              "  <div class=\"colab-df-container\">\n",
              "    <button class=\"colab-df-convert\" onclick=\"convertToInteractive('df-6f32d15d-b35d-4382-ac76-3a4566c6c497')\"\n",
              "            title=\"Convert this dataframe to an interactive table.\"\n",
              "            style=\"display:none;\">\n",
              "\n",
              "  <svg xmlns=\"http://www.w3.org/2000/svg\" height=\"24px\" viewBox=\"0 -960 960 960\">\n",
              "    <path d=\"M120-120v-720h720v720H120Zm60-500h600v-160H180v160Zm220 220h160v-160H400v160Zm0 220h160v-160H400v160ZM180-400h160v-160H180v160Zm440 0h160v-160H620v160ZM180-180h160v-160H180v160Zm440 0h160v-160H620v160Z\"/>\n",
              "  </svg>\n",
              "    </button>\n",
              "\n",
              "  <style>\n",
              "    .colab-df-container {\n",
              "      display:flex;\n",
              "      gap: 12px;\n",
              "    }\n",
              "\n",
              "    .colab-df-convert {\n",
              "      background-color: #E8F0FE;\n",
              "      border: none;\n",
              "      border-radius: 50%;\n",
              "      cursor: pointer;\n",
              "      display: none;\n",
              "      fill: #1967D2;\n",
              "      height: 32px;\n",
              "      padding: 0 0 0 0;\n",
              "      width: 32px;\n",
              "    }\n",
              "\n",
              "    .colab-df-convert:hover {\n",
              "      background-color: #E2EBFA;\n",
              "      box-shadow: 0px 1px 2px rgba(60, 64, 67, 0.3), 0px 1px 3px 1px rgba(60, 64, 67, 0.15);\n",
              "      fill: #174EA6;\n",
              "    }\n",
              "\n",
              "    .colab-df-buttons div {\n",
              "      margin-bottom: 4px;\n",
              "    }\n",
              "\n",
              "    [theme=dark] .colab-df-convert {\n",
              "      background-color: #3B4455;\n",
              "      fill: #D2E3FC;\n",
              "    }\n",
              "\n",
              "    [theme=dark] .colab-df-convert:hover {\n",
              "      background-color: #434B5C;\n",
              "      box-shadow: 0px 1px 3px 1px rgba(0, 0, 0, 0.15);\n",
              "      filter: drop-shadow(0px 1px 2px rgba(0, 0, 0, 0.3));\n",
              "      fill: #FFFFFF;\n",
              "    }\n",
              "  </style>\n",
              "\n",
              "    <script>\n",
              "      const buttonEl =\n",
              "        document.querySelector('#df-6f32d15d-b35d-4382-ac76-3a4566c6c497 button.colab-df-convert');\n",
              "      buttonEl.style.display =\n",
              "        google.colab.kernel.accessAllowed ? 'block' : 'none';\n",
              "\n",
              "      async function convertToInteractive(key) {\n",
              "        const element = document.querySelector('#df-6f32d15d-b35d-4382-ac76-3a4566c6c497');\n",
              "        const dataTable =\n",
              "          await google.colab.kernel.invokeFunction('convertToInteractive',\n",
              "                                                    [key], {});\n",
              "        if (!dataTable) return;\n",
              "\n",
              "        const docLinkHtml = 'Like what you see? Visit the ' +\n",
              "          '<a target=\"_blank\" href=https://colab.research.google.com/notebooks/data_table.ipynb>data table notebook</a>'\n",
              "          + ' to learn more about interactive tables.';\n",
              "        element.innerHTML = '';\n",
              "        dataTable['output_type'] = 'display_data';\n",
              "        await google.colab.output.renderOutput(dataTable, element);\n",
              "        const docLink = document.createElement('div');\n",
              "        docLink.innerHTML = docLinkHtml;\n",
              "        element.appendChild(docLink);\n",
              "      }\n",
              "    </script>\n",
              "  </div>\n",
              "\n",
              "\n",
              "<div id=\"df-c14c50ec-d9f4-4907-a071-6a2f72073d14\">\n",
              "  <button class=\"colab-df-quickchart\" onclick=\"quickchart('df-c14c50ec-d9f4-4907-a071-6a2f72073d14')\"\n",
              "            title=\"Suggest charts\"\n",
              "            style=\"display:none;\">\n",
              "\n",
              "<svg xmlns=\"http://www.w3.org/2000/svg\" height=\"24px\"viewBox=\"0 0 24 24\"\n",
              "     width=\"24px\">\n",
              "    <g>\n",
              "        <path d=\"M19 3H5c-1.1 0-2 .9-2 2v14c0 1.1.9 2 2 2h14c1.1 0 2-.9 2-2V5c0-1.1-.9-2-2-2zM9 17H7v-7h2v7zm4 0h-2V7h2v10zm4 0h-2v-4h2v4z\"/>\n",
              "    </g>\n",
              "</svg>\n",
              "  </button>\n",
              "\n",
              "<style>\n",
              "  .colab-df-quickchart {\n",
              "      --bg-color: #E8F0FE;\n",
              "      --fill-color: #1967D2;\n",
              "      --hover-bg-color: #E2EBFA;\n",
              "      --hover-fill-color: #174EA6;\n",
              "      --disabled-fill-color: #AAA;\n",
              "      --disabled-bg-color: #DDD;\n",
              "  }\n",
              "\n",
              "  [theme=dark] .colab-df-quickchart {\n",
              "      --bg-color: #3B4455;\n",
              "      --fill-color: #D2E3FC;\n",
              "      --hover-bg-color: #434B5C;\n",
              "      --hover-fill-color: #FFFFFF;\n",
              "      --disabled-bg-color: #3B4455;\n",
              "      --disabled-fill-color: #666;\n",
              "  }\n",
              "\n",
              "  .colab-df-quickchart {\n",
              "    background-color: var(--bg-color);\n",
              "    border: none;\n",
              "    border-radius: 50%;\n",
              "    cursor: pointer;\n",
              "    display: none;\n",
              "    fill: var(--fill-color);\n",
              "    height: 32px;\n",
              "    padding: 0;\n",
              "    width: 32px;\n",
              "  }\n",
              "\n",
              "  .colab-df-quickchart:hover {\n",
              "    background-color: var(--hover-bg-color);\n",
              "    box-shadow: 0 1px 2px rgba(60, 64, 67, 0.3), 0 1px 3px 1px rgba(60, 64, 67, 0.15);\n",
              "    fill: var(--button-hover-fill-color);\n",
              "  }\n",
              "\n",
              "  .colab-df-quickchart-complete:disabled,\n",
              "  .colab-df-quickchart-complete:disabled:hover {\n",
              "    background-color: var(--disabled-bg-color);\n",
              "    fill: var(--disabled-fill-color);\n",
              "    box-shadow: none;\n",
              "  }\n",
              "\n",
              "  .colab-df-spinner {\n",
              "    border: 2px solid var(--fill-color);\n",
              "    border-color: transparent;\n",
              "    border-bottom-color: var(--fill-color);\n",
              "    animation:\n",
              "      spin 1s steps(1) infinite;\n",
              "  }\n",
              "\n",
              "  @keyframes spin {\n",
              "    0% {\n",
              "      border-color: transparent;\n",
              "      border-bottom-color: var(--fill-color);\n",
              "      border-left-color: var(--fill-color);\n",
              "    }\n",
              "    20% {\n",
              "      border-color: transparent;\n",
              "      border-left-color: var(--fill-color);\n",
              "      border-top-color: var(--fill-color);\n",
              "    }\n",
              "    30% {\n",
              "      border-color: transparent;\n",
              "      border-left-color: var(--fill-color);\n",
              "      border-top-color: var(--fill-color);\n",
              "      border-right-color: var(--fill-color);\n",
              "    }\n",
              "    40% {\n",
              "      border-color: transparent;\n",
              "      border-right-color: var(--fill-color);\n",
              "      border-top-color: var(--fill-color);\n",
              "    }\n",
              "    60% {\n",
              "      border-color: transparent;\n",
              "      border-right-color: var(--fill-color);\n",
              "    }\n",
              "    80% {\n",
              "      border-color: transparent;\n",
              "      border-right-color: var(--fill-color);\n",
              "      border-bottom-color: var(--fill-color);\n",
              "    }\n",
              "    90% {\n",
              "      border-color: transparent;\n",
              "      border-bottom-color: var(--fill-color);\n",
              "    }\n",
              "  }\n",
              "</style>\n",
              "\n",
              "  <script>\n",
              "    async function quickchart(key) {\n",
              "      const quickchartButtonEl =\n",
              "        document.querySelector('#' + key + ' button');\n",
              "      quickchartButtonEl.disabled = true;  // To prevent multiple clicks.\n",
              "      quickchartButtonEl.classList.add('colab-df-spinner');\n",
              "      try {\n",
              "        const charts = await google.colab.kernel.invokeFunction(\n",
              "            'suggestCharts', [key], {});\n",
              "      } catch (error) {\n",
              "        console.error('Error during call to suggestCharts:', error);\n",
              "      }\n",
              "      quickchartButtonEl.classList.remove('colab-df-spinner');\n",
              "      quickchartButtonEl.classList.add('colab-df-quickchart-complete');\n",
              "    }\n",
              "    (() => {\n",
              "      let quickchartButtonEl =\n",
              "        document.querySelector('#df-c14c50ec-d9f4-4907-a071-6a2f72073d14 button');\n",
              "      quickchartButtonEl.style.display =\n",
              "        google.colab.kernel.accessAllowed ? 'block' : 'none';\n",
              "    })();\n",
              "  </script>\n",
              "</div>\n",
              "    </div>\n",
              "  </div>\n"
            ]
          },
          "metadata": {},
          "execution_count": 8
        }
      ]
    },
    {
      "cell_type": "code",
      "source": [
        "# Convert variables to array for analysis\n",
        "CO2 = np.array(df[\"CO2\"])\n",
        "Annual = np.array(df[\"AnnualCrop\"]).reshape((-1, 1))\n",
        "Lake = np.array(df[\"SeaLake\"]).reshape((-1, 1))\n",
        "Industry = np.array(df[\"Industrial\"]).reshape((-1, 1))\n",
        "Highway = np.array(df[\"Highway\"]).reshape((-1, 1))\n",
        "Veg = np.array(df[\"HerbaceousVegetation\"]).reshape((-1, 1))\n",
        "Residential = np.array(df[\"Residential\"]).reshape((-1, 1))\n",
        "Perennial = np.array(df[\"PermenantCrop\"]).reshape((-1, 1))\n",
        "Pasture = np.array(df[\"Pasture\"]).reshape((-1, 1))\n",
        "River = np.array(df[\"River\"]).reshape((-1, 1))\n",
        "Forest = np.array(df[\"Forest\"]).reshape((-1, 1))"
      ],
      "metadata": {
        "id": "JS6uD2E60n9_"
      },
      "execution_count": 9,
      "outputs": []
    },
    {
      "cell_type": "markdown",
      "source": [
        "# 2. Linear Regressions"
      ],
      "metadata": {
        "id": "FzJEsDBCpcLL"
      }
    },
    {
      "cell_type": "markdown",
      "source": [
        "Each land cover variable is paired against CO2 content in a linear regression"
      ],
      "metadata": {
        "id": "3Tm7L-49pjeR"
      }
    },
    {
      "cell_type": "code",
      "source": [
        "# Multiple linear regression\n",
        "# Set CO2 response variable equal to each land cover class\n",
        "model = LinearRegression().fit(Annual, CO2)\n",
        "r_sq = model.score(Annual, CO2)\n",
        "print(\"Annual R Squared:\", r_sq)\n",
        "\n",
        "model = LinearRegression().fit(Lake, CO2)\n",
        "r_sq = model.score(Lake, CO2)\n",
        "print(\"Lake R Squared:\", r_sq)\n",
        "\n",
        "model = LinearRegression().fit(Industry, CO2)\n",
        "r_sq = model.score(Industry, CO2)\n",
        "print(\"Industry R Squared:\", r_sq)\n",
        "\n",
        "model = LinearRegression().fit(Highway, CO2)\n",
        "r_sq = model.score(Highway, CO2)\n",
        "print(\"Highway R Squared:\", r_sq)\n",
        "\n",
        "model = LinearRegression().fit(Veg, CO2)\n",
        "r_sq = model.score(Veg, CO2)\n",
        "print(\"Vegetation R Squared:\", r_sq)\n",
        "\n",
        "model = LinearRegression().fit(Residential, CO2)\n",
        "r_sq = model.score(Residential, CO2)\n",
        "print(\"Residential R Squared:\", r_sq)\n",
        "\n",
        "model = LinearRegression().fit(Perennial, CO2)\n",
        "r_sq = model.score(Perennial, CO2)\n",
        "print(\"Perennial R Squared:\", r_sq)\n",
        "\n",
        "model = LinearRegression().fit(Pasture, CO2)\n",
        "r_sq = model.score(Pasture, CO2)\n",
        "print(\"Pasture R Squared:\", r_sq)\n",
        "\n",
        "model = LinearRegression().fit(River, CO2)\n",
        "r_sq = model.score(River, CO2)\n",
        "print(\"River R Squared:\", r_sq)\n",
        "\n",
        "model = LinearRegression().fit(Forest, CO2)\n",
        "r_sq = model.score(Forest, CO2)\n",
        "print(\"Forest R Squared:\", r_sq)"
      ],
      "metadata": {
        "colab": {
          "base_uri": "https://localhost:8080/"
        },
        "id": "OGOB6gIx0oLd",
        "outputId": "7afdfb3a-cda1-401b-b34e-09e3aed7f616"
      },
      "execution_count": 10,
      "outputs": [
        {
          "output_type": "stream",
          "name": "stdout",
          "text": [
            "Annual R Squared: 0.5640944600684281\n",
            "Lake R Squared: 0.8024048976075082\n",
            "Industry R Squared: 0.7930527513225692\n",
            "Highway R Squared: 0.7114743590792623\n",
            "Vegetation R Squared: 0.7663010747165839\n",
            "Residential R Squared: 0.9863491293967388\n",
            "Perennial R Squared: 0.7180155955847501\n",
            "Pasture R Squared: 0.6319748981235166\n",
            "River R Squared: 0.9103629497055006\n",
            "Forest R Squared: 0.9297116864538252\n"
          ]
        }
      ]
    },
    {
      "cell_type": "markdown",
      "source": [
        "The most prominent land cover class regression, Forest - CO2, is shown graphically"
      ],
      "metadata": {
        "id": "a3qCMr8-pwnE"
      }
    },
    {
      "cell_type": "code",
      "source": [
        "# Scatter plot of most significant land cover class\n",
        "mp.figure(figsize=(5, 5))\n",
        "mp.scatter(Forest, CO2, label='Forest Land Cover - CO2 Interaction', color = 'green')\n",
        "mp.xlabel('Forest Land Cover Pixels in Images(%)')\n",
        "mp.ylabel('CO2 (ppm)')\n",
        "mp.legend()\n",
        "mp.show()"
      ],
      "metadata": {
        "colab": {
          "base_uri": "https://localhost:8080/",
          "height": 465
        },
        "id": "Hf4cdhb21KPr",
        "outputId": "6f6e79fa-e27b-44a1-8e0a-57183338bfd8"
      },
      "execution_count": 11,
      "outputs": [
        {
          "output_type": "display_data",
          "data": {
            "text/plain": [
              "<Figure size 500x500 with 1 Axes>"
            ],
            "image/png": "[encoded data removed]"
          },
          "metadata": {}
        }
      ]
    },
    {
      "cell_type": "markdown",
      "source": [
        "# 3. Statistical Analysis"
      ],
      "metadata": {
        "id": "QXU0rKb2p-XI"
      }
    },
    {
      "cell_type": "markdown",
      "source": [
        "Finally, the linear model of forest pixel coverage and CO2 content is statistically analyzed"
      ],
      "metadata": {
        "id": "z1RosYV7qDH1"
      }
    },
    {
      "cell_type": "code",
      "source": [
        "# Statistical analysis of most significant land cover class\n",
        "model = sm.OLS(Forest, CO2).fit()\n",
        "predictions = model.predict(Forest)\n",
        "print_model = model.summary()\n",
        "print(print_model)"
      ],
      "metadata": {
        "colab": {
          "base_uri": "https://localhost:8080/"
        },
        "id": "03AixnHo00B7",
        "outputId": "ed095df2-4dcb-4100-8c31-01137e08f8fd"
      },
      "execution_count": 12,
      "outputs": [
        {
          "output_type": "stream",
          "name": "stdout",
          "text": [
            "                                 OLS Regression Results                                \n",
            "=======================================================================================\n",
            "Dep. Variable:                      y   R-squared (uncentered):                   0.998\n",
            "Model:                            OLS   Adj. R-squared (uncentered):              0.997\n",
            "Method:                 Least Squares   F-statistic:                              1677.\n",
            "Date:                Thu, 21 Dec 2023   Prob (F-statistic):                    2.13e-06\n",
            "Time:                        00:00:44   Log-Likelihood:                         -13.923\n",
            "No. Observations:                   5   AIC:                                      29.85\n",
            "Df Residuals:                       4   BIC:                                      29.46\n",
            "Df Model:                           1                                                  \n",
            "Covariance Type:            nonrobust                                                  \n",
            "==============================================================================\n",
            "                 coef    std err          t      P>|t|      [0.025      0.975]\n",
            "------------------------------------------------------------------------------\n",
            "x1             0.1920      0.005     40.949      0.000       0.179       0.205\n",
            "==============================================================================\n",
            "Omnibus:                          nan   Durbin-Watson:                   0.609\n",
            "Prob(Omnibus):                    nan   Jarque-Bera (JB):                0.252\n",
            "Skew:                           0.395   Prob(JB):                        0.881\n",
            "Kurtosis:                       2.234   Cond. No.                         1.00\n",
            "==============================================================================\n",
            "\n",
            "Notes:\n",
            "[1] R² is computed without centering (uncentered) since the model does not contain a constant.\n",
            "[2] Standard Errors assume that the covariance matrix of the errors is correctly specified.\n"
          ]
        },
        {
          "output_type": "stream",
          "name": "stderr",
          "text": [
            "/usr/local/lib/python3.10/dist-packages/statsmodels/stats/stattools.py:74: ValueWarning: omni_normtest is not valid with less than 8 observations; 5 samples were given.\n",
            "  warn(\"omni_normtest is not valid with less than 8 observations; %i \"\n"
          ]
        }
      ]
    },
    {
      "cell_type": "markdown",
      "source": [
        "Code shown here exemplifies how atmospheric CO2 content can be paired with image classification data to determine significant relationships between dominant vegetation types, or lack thereof, and greenhouse gas emission. While previous datasets have collected CO2 data for areas of several square kilometers, here we see a strong correlation between estimated forest land cover and CO2 concentrations across only a few hundred square meters. Ideally, this information could be used in future analyses of how smaller scale land use changes can have potentially large impacts on atmospheric carbon dynamics."
      ],
      "metadata": {
        "id": "QNR1fFAZrMpu"
      }
    }
  ]
}