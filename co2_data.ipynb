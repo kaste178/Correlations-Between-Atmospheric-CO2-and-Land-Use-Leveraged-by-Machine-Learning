{
 "cells": [
  {
   "cell_type": "markdown",
   "id": "a057a659-1834-4cc8-867d-fda433b45eb1",
   "metadata": {},
   "source": [
    "# Selection of CO2 Data in the Upper Midwest from Large Atmospheric Datasets\n",
    "\n",
    "# Jake Kastenbauer\n",
    "\n",
    "Satellite observations of atmospheric CO2 tend to come in files with thousands to hundreds of thousands of data points. To find data points that meet the criteria for a given study area, geographic filters must first be applied. Here, steps are shown to demonstrate how CO2 data can be obtained for a study area within Minnesota and Wisconsin."
   ]
  },
  {
   "cell_type": "markdown",
   "id": "6983bf14-8d34-4751-ae88-f26c9675079d",
   "metadata": {},
   "source": [
    "# 1. Load Modules and Dataset"
   ]
  },
  {
   "cell_type": "markdown",
   "id": "1164eb87-7b01-4657-a548-775351f9e976",
   "metadata": {},
   "source": [
    "First, modules are imported to read netCDF4 files and the dataset is imported."
   ]
  },
  {
   "cell_type": "code",
   "execution_count": 1,
   "id": "b5d5a982-51f7-4f22-97a1-9a7432c2f172",
   "metadata": {},
   "outputs": [],
   "source": [
    "# Import modules\n",
    "import numpy as np\n",
    "import netCDF4 as nc"
   ]
  },
  {
   "cell_type": "code",
   "execution_count": 2,
   "id": "171e20eb-868b-46b8-b715-e81f9157ca4a",
   "metadata": {},
   "outputs": [],
   "source": [
    "# Open a NetCDF4 file\n",
    "# This will be used to obtain sample CO2 data\n",
    "nc_file = nc.Dataset('oco2.nc4', 'r')"
   ]
  },
  {
   "cell_type": "markdown",
   "id": "b4c5ab2a-646c-4df1-af21-8b3918b58c9d",
   "metadata": {},
   "source": [
    "# 2. Set Parameters to Filter Dataset"
   ]
  },
  {
   "cell_type": "markdown",
   "id": "c8e69707-4f2e-4033-a42d-65800a19d964",
   "metadata": {},
   "source": [
    "Then parameters are created to filter through data to find data points within Minnesota and Wisconsin with some arbitraty uppper and lower bounds. Variables are saved for CO2 concentration, latitude, and longitude of data points that meet the criteria."
   ]
  },
  {
   "cell_type": "code",
   "execution_count": 3,
   "id": "1dad74c1-7bb8-4ce8-93e0-51417df564a3",
   "metadata": {},
   "outputs": [],
   "source": [
    "# Create upper and lower bounds of acceptable areas\n",
    "# First by latitutde\n",
    "lower_lat = 43.00000\n",
    "upper_lat = 49.22000\n",
    "\n",
    "# Then longitude\n",
    "lower_long = -97.50000\n",
    "upper_long = -89.00000"
   ]
  },
  {
   "cell_type": "code",
   "execution_count": 4,
   "id": "871bffab-02eb-4d1f-beee-4c73fe0b91d8",
   "metadata": {},
   "outputs": [],
   "source": [
    "# Create variables for latitude, longitude, and fractional CO2 data\n",
    "latitude_variable = nc_file.variables['latitude']\n",
    "longitude_variable = nc_file.variables['longitude']\n",
    "co2_variable = nc_file.variables['xco2']"
   ]
  },
  {
   "cell_type": "code",
   "execution_count": 5,
   "id": "fe5cdf5a-5047-4cb2-8261-e8d7c2939b02",
   "metadata": {},
   "outputs": [],
   "source": [
    "# Filter data based on latitude and longitude criteria\n",
    "selected_indices = np.where(\n",
    "    (lower_lat <= latitude_variable[:]) & (latitude_variable[:] <= upper_lat) &\n",
    "    (lower_long <= longitude_variable[:]) & (longitude_variable[:] <= upper_long)\n",
    ")[0] "
   ]
  },
  {
   "cell_type": "markdown",
   "id": "a2a199c5-b204-45df-b368-4966f37a8539",
   "metadata": {},
   "source": [
    "# 3. Point Selection"
   ]
  },
  {
   "cell_type": "markdown",
   "id": "501bf854-6e2e-4722-8965-4f8214e282a6",
   "metadata": {},
   "source": [
    "Finally, some random data points are selected that meet the criteria."
   ]
  },
  {
   "cell_type": "code",
   "execution_count": 6,
   "id": "c03cf72c-88dc-46f5-a942-67c3d5d67c3c",
   "metadata": {},
   "outputs": [
    {
     "name": "stdout",
     "output_type": "stream",
     "text": [
      "Sampled CO2 data: [418.26935 417.31525 417.67178 416.10205 418.47934 418.5734  418.49542\n",
      " 417.5787  418.94144 418.73038]\n",
      "Sampled Latitude data: [46.833374 46.08917  46.81354  46.84771  46.82212  46.83594  46.819393\n",
      " 46.100273 46.844597 46.8161  ]\n",
      "Sampled Longitude data: [-89.33213  -89.05609  -89.32468  -89.352776 -89.33152  -89.326195\n",
      " -89.33813  -89.057014 -89.33284  -89.318756]\n"
     ]
    }
   ],
   "source": [
    "# Randomly select 10 data points that meet the criteria\n",
    "if len(selected_indices) >= 10:\n",
    "    random_indices = np.random.choice(selected_indices, 10, replace=False)\n",
    "    \n",
    "    # Use the selected indices to extract the desired data\n",
    "    sampled_co2_data = co2_variable[random_indices]\n",
    "    sampled_latitude_data = latitude_variable[random_indices]\n",
    "    sampled_longitude_data = longitude_variable[random_indices]\n",
    "    \n",
    "\n",
    "    # Display the data\n",
    "    print(\"Sampled CO2 data:\", sampled_co2_data)\n",
    "    print(\"Sampled Latitude data:\", sampled_latitude_data)\n",
    "    print(\"Sampled Longitude data:\", sampled_longitude_data)"
   ]
  },
  {
   "cell_type": "markdown",
   "id": "81c56c5a-6a28-4cc5-82d0-0e5af520f592",
   "metadata": {},
   "source": [
    "The final output shows a few options for data points that can be used in subsequent CO2 analyses. Here, CO2 content is shown in parts per million (ppm) along with cooresponding geographic coordinates in decimal degrees."
   ]
  }
 ],
 "metadata": {
  "kernelspec": {
   "display_name": "Python 3 (ipykernel)",
   "language": "python",
   "name": "python3"
  },
  "language_info": {
   "codemirror_mode": {
    "name": "ipython",
    "version": 3
   },
   "file_extension": ".py",
   "mimetype": "text/x-python",
   "name": "python",
   "nbconvert_exporter": "python",
   "pygments_lexer": "ipython3",
   "version": "3.9.7"
  }
 },
 "nbformat": 4,
 "nbformat_minor": 5
}
